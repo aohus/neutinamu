{
 "cells": [
  {
   "cell_type": "code",
   "execution_count": 1,
   "metadata": {},
   "outputs": [
    {
     "name": "stderr",
     "output_type": "stream",
     "text": [
      "/Users/aohus/.pyenv/versions/local-venv/lib/python3.11/site-packages/tqdm/auto.py:21: TqdmWarning: IProgress not found. Please update jupyter and ipywidgets. See https://ipywidgets.readthedocs.io/en/stable/user_install.html\n",
      "  from .autonotebook import tqdm as notebook_tqdm\n"
     ]
    }
   ],
   "source": [
    "import os\n",
    "import shutil\n",
    "import numpy as np\n",
    "import torch\n",
    "from PIL import Image\n",
    "from tqdm import tqdm\n",
    "from sklearn.metrics.pairwise import cosine_similarity\n",
    "from transformers import AutoProcessor, AutoModel\n",
    "\n",
    "from segment_anything import sam_model_registry, SamPredictor\n",
    "import cv2\n"
   ]
  },
  {
   "cell_type": "code",
   "execution_count": 2,
   "metadata": {},
   "outputs": [],
   "source": [
    "# 경로 설정\n",
    "IMAGE_DIR = \"./1차\"\n",
    "OUTPUT_DIR = IMAGE_DIR + \"_dino_grouped_no_people\"\n",
    "os.makedirs(OUTPUT_DIR, exist_ok=True)\n",
    "\n",
    "# 모든 이미지 임베딩 추출\n",
    "image_paths = [\n",
    "    os.path.join(IMAGE_DIR, fname)\n",
    "    for fname in os.listdir(IMAGE_DIR)\n",
    "    if fname.lower().endswith((\"jpg\", \"jpeg\", \"png\"))\n",
    "]"
   ]
  },
  {
   "cell_type": "code",
   "execution_count": 3,
   "metadata": {},
   "outputs": [
    {
     "name": "stderr",
     "output_type": "stream",
     "text": [
      "Using a slow image processor as `use_fast` is unset and a slow processor was saved with this model. `use_fast=True` will be the default behavior in v4.48, even if the model was saved with a slow processor. This will result in minor differences in outputs. You'll still be able to use a slow processor with `use_fast=False`.\n"
     ]
    }
   ],
   "source": [
    "\n",
    "# DINOv2 모델 로딩\n",
    "model_id = \"facebook/dinov2-large\"\n",
    "device = \"cuda\" if torch.cuda.is_available() else \"cpu\"\n",
    "processor = AutoProcessor.from_pretrained(model_id)\n",
    "dino_model = AutoModel.from_pretrained(model_id).to(device).eval()"
   ]
  },
  {
   "cell_type": "code",
   "execution_count": 5,
   "metadata": {},
   "outputs": [],
   "source": [
    "# SAM 로드 (사전 다운로드된 체크포인트 필요)\n",
    "SAM_CHECKPOINT = \"sam_vit_h_4b8939.pth\"\n",
    "model_type = \"vit_h\"\n",
    "sam = sam_model_registry[model_type](checkpoint=SAM_CHECKPOINT).to(device)\n",
    "predictor = SamPredictor(sam)"
   ]
  },
  {
   "cell_type": "code",
   "execution_count": 6,
   "metadata": {},
   "outputs": [],
   "source": [
    "# ---------------------- 사람 마스크 + 제거 함수 ----------------------\n",
    "def remove_person_with_sam(img_np):\n",
    "    predictor.set_image(img_np)\n",
    "    height, width, _ = img_np.shape\n",
    "\n",
    "    # 그리드 기반 프롬프트 (전체 탐색용)\n",
    "    step = 128\n",
    "    points = []\n",
    "    for y in range(step//2, height, step):\n",
    "        for x in range(step//2, width, step):\n",
    "            points.append([x, y])\n",
    "    input_points = np.array(points)\n",
    "    input_labels = np.ones(len(points))  # foreground\n",
    "\n",
    "    masks, scores, _ = predictor.predict(\n",
    "        point_coords=input_points,\n",
    "        point_labels=input_labels,\n",
    "        multimask_output=False\n",
    "    )\n",
    "\n",
    "    # 사람으로 추정되는 마스크를 통합 (보수적 접근)\n",
    "    full_mask = np.any(masks, axis=0).astype(np.uint8)\n",
    "    inpainted = cv2.inpaint(img_np, full_mask, inpaintRadius=3, flags=cv2.INPAINT_TELEA)\n",
    "    return inpainted\n",
    "\n"
   ]
  },
  {
   "cell_type": "code",
   "execution_count": 9,
   "metadata": {},
   "outputs": [],
   "source": [
    "\n",
    "# ---------------------- DINOv2 임베딩 추출 ----------------------\n",
    "def extract_dino_embedding(img_np):\n",
    "    pil_img = Image.fromarray(img_np)\n",
    "    inputs = processor(images=pil_img, return_tensors=\"pt\").to(device)\n",
    "    with torch.no_grad():\n",
    "        outputs = dino_model(**inputs)\n",
    "        return outputs.last_hidden_state[:, 0, :].cpu().numpy().flatten()  # CLS 토큰"
   ]
  },
  {
   "cell_type": "code",
   "execution_count": 14,
   "metadata": {},
   "outputs": [
    {
     "name": "stdout",
     "output_type": "stream",
     "text": [
      "[1] 사람 제거 + 임베딩 추출 중...\n"
     ]
    },
    {
     "name": "stderr",
     "output_type": "stream",
     "text": [
      "100%|██████████| 232/232 [01:04<00:00,  3.58it/s]\n"
     ]
    }
   ],
   "source": [
    "# ---------------------- 메인 처리 ----------------------\n",
    "image_paths = [\n",
    "    os.path.join(IMAGE_DIR, fname)\n",
    "    for fname in os.listdir(IMAGE_DIR)\n",
    "    if fname.lower().endswith((\"jpg\", \"jpeg\", \"png\"))\n",
    "]\n",
    "\n",
    "print(\"[1] 사람 제거 + 임베딩 추출 중...\")\n",
    "embeddings = []\n",
    "for path in tqdm(image_paths):\n",
    "    img_np = np.array(Image.open(path).convert(\"RGB\"))\n",
    "    # clean_img = remove_person_with_sam(img_np)\n",
    "    emb = extract_dino_embedding(img_np)\n",
    "    embeddings.append(emb)\n",
    "embeddings = np.array(embeddings)"
   ]
  },
  {
   "cell_type": "code",
   "execution_count": 15,
   "metadata": {},
   "outputs": [
    {
     "name": "stdout",
     "output_type": "stream",
     "text": [
      "[2] 그룹 저장 중...\n",
      "완료! 그룹화된 결과는 './1차_dino_grouped_no_people'에 저장됨.\n"
     ]
    }
   ],
   "source": [
    "# ---------------------- 클러스터링 ----------------------\n",
    "def group_by_cosine_similarity(embeddings, threshold=0.9):\n",
    "    sim = cosine_similarity(embeddings)\n",
    "    used = np.zeros(len(embeddings), dtype=bool)\n",
    "    groups = []\n",
    "    for i in range(len(embeddings)):\n",
    "        if not used[i]:\n",
    "            idxs = np.where(sim[i] >= threshold)[0]\n",
    "            groups.append(idxs)\n",
    "            used[idxs] = True\n",
    "    return groups\n",
    "\n",
    "groups = group_by_cosine_similarity(embeddings, threshold=0.7)\n",
    "\n",
    "print(\"[2] 그룹 저장 중...\")\n",
    "for i, group in enumerate(groups):\n",
    "    group_dir = os.path.join(OUTPUT_DIR, f\"group_{i}\")\n",
    "    os.makedirs(group_dir, exist_ok=True)\n",
    "    for idx in group:\n",
    "        shutil.copy(image_paths[idx], group_dir)\n",
    "\n",
    "print(f\"완료! 그룹화된 결과는 '{OUTPUT_DIR}'에 저장됨.\")\n"
   ]
  },
  {
   "cell_type": "code",
   "execution_count": null,
   "metadata": {},
   "outputs": [],
   "source": []
  }
 ],
 "metadata": {
  "kernelspec": {
   "display_name": "local-venv",
   "language": "python",
   "name": "python3"
  },
  "language_info": {
   "codemirror_mode": {
    "name": "ipython",
    "version": 3
   },
   "file_extension": ".py",
   "mimetype": "text/x-python",
   "name": "python",
   "nbconvert_exporter": "python",
   "pygments_lexer": "ipython3",
   "version": "3.11.8"
  }
 },
 "nbformat": 4,
 "nbformat_minor": 2
}
