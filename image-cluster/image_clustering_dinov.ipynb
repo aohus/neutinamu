{
 "cells": [
  {
   "cell_type": "code",
   "execution_count": 2,
   "metadata": {},
   "outputs": [
    {
     "name": "stderr",
     "output_type": "stream",
     "text": [
      "/Users/aohus/.pyenv/versions/3.11.8/envs/local-venv/lib/python3.11/site-packages/tqdm/auto.py:21: TqdmWarning: IProgress not found. Please update jupyter and ipywidgets. See https://ipywidgets.readthedocs.io/en/stable/user_install.html\n",
      "  from .autonotebook import tqdm as notebook_tqdm\n"
     ]
    }
   ],
   "source": [
    "import os\n",
    "import shutil\n",
    "import torch\n",
    "import numpy as np\n",
    "from PIL import Image\n",
    "from tqdm import tqdm\n",
    "from sklearn.metrics.pairwise import cosine_similarity\n",
    "from transformers import AutoProcessor, AutoModel\n",
    "\n",
    "# 이미지 경로 설정\n",
    "IMAGE_DIR = \"/Users/aohus/Workspaces/github/image-cluster/1차\"\n",
    "\n",
    "# 이미지 목록 로딩\n",
    "image_paths = [\n",
    "    os.path.join(IMAGE_DIR, fname)\n",
    "    for fname in os.listdir(IMAGE_DIR)\n",
    "    if fname.lower().endswith((\"png\", \"jpg\", \"jpeg\"))\n",
    "]\n"
   ]
  },
  {
   "cell_type": "code",
   "execution_count": 8,
   "metadata": {},
   "outputs": [
    {
     "data": {
      "text/plain": [
       "Dinov2Model(\n",
       "  (embeddings): Dinov2Embeddings(\n",
       "    (patch_embeddings): Dinov2PatchEmbeddings(\n",
       "      (projection): Conv2d(3, 1536, kernel_size=(14, 14), stride=(14, 14))\n",
       "    )\n",
       "    (dropout): Dropout(p=0.0, inplace=False)\n",
       "  )\n",
       "  (encoder): Dinov2Encoder(\n",
       "    (layer): ModuleList(\n",
       "      (0-39): 40 x Dinov2Layer(\n",
       "        (norm1): LayerNorm((1536,), eps=1e-06, elementwise_affine=True)\n",
       "        (attention): Dinov2SdpaAttention(\n",
       "          (attention): Dinov2SdpaSelfAttention(\n",
       "            (query): Linear(in_features=1536, out_features=1536, bias=True)\n",
       "            (key): Linear(in_features=1536, out_features=1536, bias=True)\n",
       "            (value): Linear(in_features=1536, out_features=1536, bias=True)\n",
       "            (dropout): Dropout(p=0.0, inplace=False)\n",
       "          )\n",
       "          (output): Dinov2SelfOutput(\n",
       "            (dense): Linear(in_features=1536, out_features=1536, bias=True)\n",
       "            (dropout): Dropout(p=0.0, inplace=False)\n",
       "          )\n",
       "        )\n",
       "        (layer_scale1): Dinov2LayerScale()\n",
       "        (drop_path): Identity()\n",
       "        (norm2): LayerNorm((1536,), eps=1e-06, elementwise_affine=True)\n",
       "        (mlp): Dinov2SwiGLUFFN(\n",
       "          (weights_in): Linear(in_features=1536, out_features=8192, bias=True)\n",
       "          (weights_out): Linear(in_features=4096, out_features=1536, bias=True)\n",
       "        )\n",
       "        (layer_scale2): Dinov2LayerScale()\n",
       "      )\n",
       "    )\n",
       "  )\n",
       "  (layernorm): LayerNorm((1536,), eps=1e-06, elementwise_affine=True)\n",
       ")"
      ]
     },
     "execution_count": 8,
     "metadata": {},
     "output_type": "execute_result"
    }
   ],
   "source": [
    "# 모델 및 전처리기 로드\n",
    "model_id = \"facebook/dinov2-giant\"\n",
    "device = \"cuda\" if torch.cuda.is_available() else \"cpu\"\n",
    "\n",
    "processor = AutoProcessor.from_pretrained(model_id)\n",
    "model = AutoModel.from_pretrained(model_id).to(device)\n",
    "model.eval()"
   ]
  },
  {
   "cell_type": "code",
   "execution_count": 9,
   "metadata": {},
   "outputs": [
    {
     "name": "stdout",
     "output_type": "stream",
     "text": [
      "DINOv2 임베딩 추출 중...\n"
     ]
    },
    {
     "name": "stderr",
     "output_type": "stream",
     "text": [
      "100%|██████████| 232/232 [03:14<00:00,  1.19it/s]\n"
     ]
    }
   ],
   "source": [
    "# 이미지 임베딩 추출 함수\n",
    "def extract_dino_embedding(img_path):\n",
    "    img = Image.open(img_path).convert(\"RGB\")\n",
    "    inputs = processor(images=img, return_tensors=\"pt\").to(device)\n",
    "\n",
    "    with torch.no_grad():\n",
    "        outputs = model(**inputs)\n",
    "        embedding = outputs.last_hidden_state[:, 0, :]  # [CLS] token\n",
    "        return embedding.cpu().numpy().flatten()\n",
    "\n",
    "# 모든 이미지 임베딩 추출\n",
    "print(\"DINOv2 임베딩 추출 중...\")\n",
    "embeddings = []\n",
    "for path in tqdm(image_paths):\n",
    "    emb = extract_dino_embedding(path)\n",
    "    embeddings.append(emb)\n",
    "embeddings = np.array(embeddings)\n",
    "\n",
    "# 유사도 기반 그룹핑\n",
    "def group_similar_embeddings(embeddings, threshold=0.9):\n",
    "    similarity_matrix = cosine_similarity(embeddings)\n",
    "    used = np.zeros(len(embeddings), dtype=bool)\n",
    "    groups = []\n",
    "\n",
    "    for idx in range(len(embeddings)):\n",
    "        if not used[idx]:\n",
    "            similar_idxs = np.where(similarity_matrix[idx] >= threshold)[0]\n",
    "            groups.append(similar_idxs)\n",
    "            used[similar_idxs] = True\n",
    "    return groups"
   ]
  },
  {
   "cell_type": "code",
   "execution_count": 11,
   "metadata": {},
   "outputs": [
    {
     "name": "stdout",
     "output_type": "stream",
     "text": [
      "그룹별 이미지 저장 중...\n",
      "DINOv2 기반 공간 그룹핑 완료! 결과는 '/Users/aohus/Workspaces/github/image-cluster/1차_dino_cosine_similarity'에 저장됨.\n"
     ]
    }
   ],
   "source": [
    "OUTPUT_DIR = IMAGE_DIR + f\"_dino_cosine_similarity\"\n",
    "\n",
    "groups = group_similar_embeddings(embeddings, threshold=0.70)\n",
    "\n",
    "# 그룹별 이미지 저장\n",
    "print(\"그룹별 이미지 저장 중...\")\n",
    "for group_id, group_idxs in enumerate(groups):\n",
    "    group_folder = os.path.join(OUTPUT_DIR, f\"group_{group_id}\")\n",
    "    os.makedirs(group_folder, exist_ok=True)\n",
    "    for idx in group_idxs:\n",
    "        shutil.copy(image_paths[idx], group_folder)\n",
    "\n",
    "print(f\"DINOv2 기반 공간 그룹핑 완료! 결과는 '{OUTPUT_DIR}'에 저장됨.\")"
   ]
  },
  {
   "cell_type": "code",
   "execution_count": null,
   "metadata": {},
   "outputs": [],
   "source": []
  }
 ],
 "metadata": {
  "kernelspec": {
   "display_name": "local-venv",
   "language": "python",
   "name": "python3"
  },
  "language_info": {
   "codemirror_mode": {
    "name": "ipython",
    "version": 3
   },
   "file_extension": ".py",
   "mimetype": "text/x-python",
   "name": "python",
   "nbconvert_exporter": "python",
   "pygments_lexer": "ipython3",
   "version": "3.11.8"
  }
 },
 "nbformat": 4,
 "nbformat_minor": 2
}
